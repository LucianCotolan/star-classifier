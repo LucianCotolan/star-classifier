{
 "cells": [
  {
   "cell_type": "code",
   "execution_count": 1,
   "id": "decreased-windows",
   "metadata": {},
   "outputs": [],
   "source": [
    "from jupyterthemes import jtplot\n",
    "jtplot.style(context='notebook', theme='onedork', figsize=(15,5))\n",
    "\n",
    "import numpy as np\n",
    "import pandas as pd\n",
    "import matplotlib.pyplot as plt\n",
    "import seaborn as sns"
   ]
  },
  {
   "cell_type": "code",
   "execution_count": 2,
   "id": "rubber-salad",
   "metadata": {},
   "outputs": [],
   "source": [
    "from sklearn.model_selection import train_test_split\n",
    "\n",
    "from sklearn.metrics import classification_report\n",
    "from sklearn.metrics import accuracy_score\n",
    "\n",
    "from sklearn.linear_model import LogisticRegression\n",
    "from sklearn.tree import DecisionTreeClassifier\n",
    "from sklearn.ensemble import RandomForestClassifier\n",
    "from sklearn.naive_bayes import GaussianNB\n",
    "from sklearn.svm import SVC\n",
    "\n",
    "from sklearn.preprocessing import MinMaxScaler\n",
    "from sklearn.preprocessing import StandardScaler\n",
    "\n",
    "from sklearn.decomposition import PCA"
   ]
  },
  {
   "cell_type": "code",
   "execution_count": 8,
   "id": "working-compact",
   "metadata": {},
   "outputs": [
    {
     "data": {
      "text/html": [
       "<div>\n",
       "<style scoped>\n",
       "    .dataframe tbody tr th:only-of-type {\n",
       "        vertical-align: middle;\n",
       "    }\n",
       "\n",
       "    .dataframe tbody tr th {\n",
       "        vertical-align: top;\n",
       "    }\n",
       "\n",
       "    .dataframe thead th {\n",
       "        text-align: right;\n",
       "    }\n",
       "</style>\n",
       "<table border=\"1\" class=\"dataframe\">\n",
       "  <thead>\n",
       "    <tr style=\"text-align: right;\">\n",
       "      <th></th>\n",
       "      <th>id</th>\n",
       "      <th>proper</th>\n",
       "      <th>con</th>\n",
       "      <th>sptype</th>\n",
       "      <th>absmag</th>\n",
       "      <th>ci</th>\n",
       "      <th>lum</th>\n",
       "    </tr>\n",
       "  </thead>\n",
       "  <tbody>\n",
       "    <tr>\n",
       "      <th>0</th>\n",
       "      <td>3072</td>\n",
       "      <td>NaN</td>\n",
       "      <td>Phe</td>\n",
       "      <td>K</td>\n",
       "      <td>-12.190</td>\n",
       "      <td>1.367</td>\n",
       "      <td>6.546362e+06</td>\n",
       "    </tr>\n",
       "    <tr>\n",
       "      <th>1</th>\n",
       "      <td>3073</td>\n",
       "      <td>NaN</td>\n",
       "      <td>Tuc</td>\n",
       "      <td>K</td>\n",
       "      <td>0.206</td>\n",
       "      <td>1.244</td>\n",
       "      <td>7.204436e+01</td>\n",
       "    </tr>\n",
       "    <tr>\n",
       "      <th>2</th>\n",
       "      <td>3074</td>\n",
       "      <td>NaN</td>\n",
       "      <td>Cas</td>\n",
       "      <td>A</td>\n",
       "      <td>2.713</td>\n",
       "      <td>0.404</td>\n",
       "      <td>7.158137e+00</td>\n",
       "    </tr>\n",
       "    <tr>\n",
       "      <th>3</th>\n",
       "      <td>3075</td>\n",
       "      <td>NaN</td>\n",
       "      <td>Phe</td>\n",
       "      <td>K</td>\n",
       "      <td>-0.475</td>\n",
       "      <td>1.176</td>\n",
       "      <td>1.348963e+02</td>\n",
       "    </tr>\n",
       "    <tr>\n",
       "      <th>4</th>\n",
       "      <td>3076</td>\n",
       "      <td>NaN</td>\n",
       "      <td>Cet</td>\n",
       "      <td>B</td>\n",
       "      <td>2.584</td>\n",
       "      <td>0.238</td>\n",
       "      <td>8.061206e+00</td>\n",
       "    </tr>\n",
       "  </tbody>\n",
       "</table>\n",
       "</div>"
      ],
      "text/plain": [
       "     id proper  con sptype  absmag     ci           lum\n",
       "0  3072    NaN  Phe      K -12.190  1.367  6.546362e+06\n",
       "1  3073    NaN  Tuc      K   0.206  1.244  7.204436e+01\n",
       "2  3074    NaN  Cas      A   2.713  0.404  7.158137e+00\n",
       "3  3075    NaN  Phe      K  -0.475  1.176  1.348963e+02\n",
       "4  3076    NaN  Cet      B   2.584  0.238  8.061206e+00"
      ]
     },
     "execution_count": 8,
     "metadata": {},
     "output_type": "execute_result"
    }
   ],
   "source": [
    "all_data = pd.read_csv(\"hyg_stars.csv\")\n",
    "all_data.head()"
   ]
  },
  {
   "cell_type": "code",
   "execution_count": 9,
   "id": "conscious-exploration",
   "metadata": {
    "scrolled": false
   },
   "outputs": [
    {
     "data": {
      "text/html": [
       "<div>\n",
       "<style scoped>\n",
       "    .dataframe tbody tr th:only-of-type {\n",
       "        vertical-align: middle;\n",
       "    }\n",
       "\n",
       "    .dataframe tbody tr th {\n",
       "        vertical-align: top;\n",
       "    }\n",
       "\n",
       "    .dataframe thead th {\n",
       "        text-align: right;\n",
       "    }\n",
       "</style>\n",
       "<table border=\"1\" class=\"dataframe\">\n",
       "  <thead>\n",
       "    <tr style=\"text-align: right;\">\n",
       "      <th></th>\n",
       "      <th>id</th>\n",
       "      <th>absmag</th>\n",
       "      <th>ci</th>\n",
       "      <th>lum</th>\n",
       "    </tr>\n",
       "  </thead>\n",
       "  <tbody>\n",
       "    <tr>\n",
       "      <th>count</th>\n",
       "      <td>114653.000000</td>\n",
       "      <td>114653.000000</td>\n",
       "      <td>114653.000000</td>\n",
       "      <td>1.146530e+05</td>\n",
       "    </tr>\n",
       "    <tr>\n",
       "      <th>mean</th>\n",
       "      <td>59338.481313</td>\n",
       "      <td>0.864994</td>\n",
       "      <td>0.703285</td>\n",
       "      <td>3.590977e+05</td>\n",
       "    </tr>\n",
       "    <tr>\n",
       "      <th>std</th>\n",
       "      <td>34251.138983</td>\n",
       "      <td>4.139357</td>\n",
       "      <td>0.486430</td>\n",
       "      <td>3.375591e+06</td>\n",
       "    </tr>\n",
       "    <tr>\n",
       "      <th>min</th>\n",
       "      <td>0.000000</td>\n",
       "      <td>-16.680000</td>\n",
       "      <td>-0.400000</td>\n",
       "      <td>5.566728e-06</td>\n",
       "    </tr>\n",
       "    <tr>\n",
       "      <th>25%</th>\n",
       "      <td>29654.000000</td>\n",
       "      <td>0.127000</td>\n",
       "      <td>0.342000</td>\n",
       "      <td>5.355500e+00</td>\n",
       "    </tr>\n",
       "    <tr>\n",
       "      <th>50%</th>\n",
       "      <td>59361.000000</td>\n",
       "      <td>1.437000</td>\n",
       "      <td>0.607000</td>\n",
       "      <td>2.318462e+01</td>\n",
       "    </tr>\n",
       "    <tr>\n",
       "      <th>75%</th>\n",
       "      <td>89023.000000</td>\n",
       "      <td>3.028000</td>\n",
       "      <td>1.078000</td>\n",
       "      <td>7.748185e+01</td>\n",
       "    </tr>\n",
       "    <tr>\n",
       "      <th>max</th>\n",
       "      <td>119613.000000</td>\n",
       "      <td>17.986000</td>\n",
       "      <td>3.315000</td>\n",
       "      <td>4.092607e+08</td>\n",
       "    </tr>\n",
       "  </tbody>\n",
       "</table>\n",
       "</div>"
      ],
      "text/plain": [
       "                  id         absmag             ci           lum\n",
       "count  114653.000000  114653.000000  114653.000000  1.146530e+05\n",
       "mean    59338.481313       0.864994       0.703285  3.590977e+05\n",
       "std     34251.138983       4.139357       0.486430  3.375591e+06\n",
       "min         0.000000     -16.680000      -0.400000  5.566728e-06\n",
       "25%     29654.000000       0.127000       0.342000  5.355500e+00\n",
       "50%     59361.000000       1.437000       0.607000  2.318462e+01\n",
       "75%     89023.000000       3.028000       1.078000  7.748185e+01\n",
       "max    119613.000000      17.986000       3.315000  4.092607e+08"
      ]
     },
     "execution_count": 9,
     "metadata": {},
     "output_type": "execute_result"
    }
   ],
   "source": [
    "all_data.describe()"
   ]
  },
  {
   "cell_type": "code",
   "execution_count": 10,
   "id": "enormous-appointment",
   "metadata": {
    "scrolled": true
   },
   "outputs": [
    {
     "data": {
      "text/html": [
       "<div>\n",
       "<style scoped>\n",
       "    .dataframe tbody tr th:only-of-type {\n",
       "        vertical-align: middle;\n",
       "    }\n",
       "\n",
       "    .dataframe tbody tr th {\n",
       "        vertical-align: top;\n",
       "    }\n",
       "\n",
       "    .dataframe thead th {\n",
       "        text-align: right;\n",
       "    }\n",
       "</style>\n",
       "<table border=\"1\" class=\"dataframe\">\n",
       "  <thead>\n",
       "    <tr style=\"text-align: right;\">\n",
       "      <th></th>\n",
       "      <th>id</th>\n",
       "      <th>proper</th>\n",
       "      <th>con</th>\n",
       "      <th>sptype</th>\n",
       "      <th>absmag</th>\n",
       "      <th>ci</th>\n",
       "      <th>lum</th>\n",
       "    </tr>\n",
       "  </thead>\n",
       "  <tbody>\n",
       "    <tr>\n",
       "      <th>0</th>\n",
       "      <td>3072</td>\n",
       "      <td>NaN</td>\n",
       "      <td>Phe</td>\n",
       "      <td>5</td>\n",
       "      <td>-12.190</td>\n",
       "      <td>1.367</td>\n",
       "      <td>6.546362e+06</td>\n",
       "    </tr>\n",
       "    <tr>\n",
       "      <th>1</th>\n",
       "      <td>3073</td>\n",
       "      <td>NaN</td>\n",
       "      <td>Tuc</td>\n",
       "      <td>5</td>\n",
       "      <td>0.206</td>\n",
       "      <td>1.244</td>\n",
       "      <td>7.204436e+01</td>\n",
       "    </tr>\n",
       "    <tr>\n",
       "      <th>2</th>\n",
       "      <td>3074</td>\n",
       "      <td>NaN</td>\n",
       "      <td>Cas</td>\n",
       "      <td>2</td>\n",
       "      <td>2.713</td>\n",
       "      <td>0.404</td>\n",
       "      <td>7.158137e+00</td>\n",
       "    </tr>\n",
       "    <tr>\n",
       "      <th>3</th>\n",
       "      <td>3075</td>\n",
       "      <td>NaN</td>\n",
       "      <td>Phe</td>\n",
       "      <td>5</td>\n",
       "      <td>-0.475</td>\n",
       "      <td>1.176</td>\n",
       "      <td>1.348963e+02</td>\n",
       "    </tr>\n",
       "    <tr>\n",
       "      <th>4</th>\n",
       "      <td>3076</td>\n",
       "      <td>NaN</td>\n",
       "      <td>Cet</td>\n",
       "      <td>1</td>\n",
       "      <td>2.584</td>\n",
       "      <td>0.238</td>\n",
       "      <td>8.061206e+00</td>\n",
       "    </tr>\n",
       "  </tbody>\n",
       "</table>\n",
       "</div>"
      ],
      "text/plain": [
       "     id proper  con  sptype  absmag     ci           lum\n",
       "0  3072    NaN  Phe       5 -12.190  1.367  6.546362e+06\n",
       "1  3073    NaN  Tuc       5   0.206  1.244  7.204436e+01\n",
       "2  3074    NaN  Cas       2   2.713  0.404  7.158137e+00\n",
       "3  3075    NaN  Phe       5  -0.475  1.176  1.348963e+02\n",
       "4  3076    NaN  Cet       1   2.584  0.238  8.061206e+00"
      ]
     },
     "execution_count": 10,
     "metadata": {},
     "output_type": "execute_result"
    }
   ],
   "source": [
    "all_data['sptype'] = all_data['sptype'].map({'O': 0, 'B': 1, 'A': 2, 'F': 3, 'G': 4, 'K': 5, 'M': 6})\n",
    "all_data.head()"
   ]
  },
  {
   "cell_type": "code",
   "execution_count": 20,
   "id": "latin-halifax",
   "metadata": {},
   "outputs": [
    {
     "data": {
      "text/html": [
       "<div>\n",
       "<style scoped>\n",
       "    .dataframe tbody tr th:only-of-type {\n",
       "        vertical-align: middle;\n",
       "    }\n",
       "\n",
       "    .dataframe tbody tr th {\n",
       "        vertical-align: top;\n",
       "    }\n",
       "\n",
       "    .dataframe thead th {\n",
       "        text-align: right;\n",
       "    }\n",
       "</style>\n",
       "<table border=\"1\" class=\"dataframe\">\n",
       "  <thead>\n",
       "    <tr style=\"text-align: right;\">\n",
       "      <th></th>\n",
       "      <th>sptype</th>\n",
       "      <th>vmag</th>\n",
       "      <th>bv</th>\n",
       "      <th>lum</th>\n",
       "    </tr>\n",
       "  </thead>\n",
       "  <tbody>\n",
       "    <tr>\n",
       "      <th>0</th>\n",
       "      <td>5</td>\n",
       "      <td>-12.190</td>\n",
       "      <td>1.367</td>\n",
       "      <td>6.546362e+06</td>\n",
       "    </tr>\n",
       "    <tr>\n",
       "      <th>1</th>\n",
       "      <td>5</td>\n",
       "      <td>0.206</td>\n",
       "      <td>1.244</td>\n",
       "      <td>7.204436e+01</td>\n",
       "    </tr>\n",
       "    <tr>\n",
       "      <th>2</th>\n",
       "      <td>2</td>\n",
       "      <td>2.713</td>\n",
       "      <td>0.404</td>\n",
       "      <td>7.158137e+00</td>\n",
       "    </tr>\n",
       "    <tr>\n",
       "      <th>3</th>\n",
       "      <td>5</td>\n",
       "      <td>-0.475</td>\n",
       "      <td>1.176</td>\n",
       "      <td>1.348963e+02</td>\n",
       "    </tr>\n",
       "    <tr>\n",
       "      <th>4</th>\n",
       "      <td>1</td>\n",
       "      <td>2.584</td>\n",
       "      <td>0.238</td>\n",
       "      <td>8.061206e+00</td>\n",
       "    </tr>\n",
       "  </tbody>\n",
       "</table>\n",
       "</div>"
      ],
      "text/plain": [
       "   sptype    vmag     bv           lum\n",
       "0       5 -12.190  1.367  6.546362e+06\n",
       "1       5   0.206  1.244  7.204436e+01\n",
       "2       2   2.713  0.404  7.158137e+00\n",
       "3       5  -0.475  1.176  1.348963e+02\n",
       "4       1   2.584  0.238  8.061206e+00"
      ]
     },
     "execution_count": 20,
     "metadata": {},
     "output_type": "execute_result"
    }
   ],
   "source": [
    "stars = {\n",
    "    'sptype' : all_data['sptype'],\n",
    "    'vmag' : all_data['absmag'],\n",
    "    'bv' : all_data['ci'],\n",
    "    'lum' : all_data['lum'],\n",
    "}\n",
    "stars = pd.DataFrame.from_dict(stars)\n",
    "stars.head()"
   ]
  },
  {
   "cell_type": "markdown",
   "id": "formal-range",
   "metadata": {},
   "source": [
    "# Vizualize data"
   ]
  },
  {
   "cell_type": "markdown",
   "id": "sacred-juvenile",
   "metadata": {},
   "source": [
    "Tipul spectral:"
   ]
  },
  {
   "cell_type": "code",
   "execution_count": 11,
   "id": "directed-intermediate",
   "metadata": {},
   "outputs": [
    {
     "data": {
      "image/png": "[encoded data removed]",
      "text/plain": [
       "<Figure size 432x288 with 1 Axes>"
      ]
     },
     "metadata": {},
     "output_type": "display_data"
    }
   ],
   "source": [
    "spectral_types = pd.DataFrame(all_data[\"sptype\"].value_counts().sort_values(ascending=False))\n",
    "ax = sns.barplot(x = spectral_types.index, y = 'sptype' , data = spectral_types)"
   ]
  },
  {
   "cell_type": "markdown",
   "id": "personal-comparative",
   "metadata": {},
   "source": [
    "Extrem de putine stele cu tipul spectral O (This might be a problem!)"
   ]
  },
  {
   "cell_type": "code",
   "execution_count": 12,
   "id": "adaptive-mozambique",
   "metadata": {
    "scrolled": true
   },
   "outputs": [
    {
     "data": {
      "text/plain": [
       "<AxesSubplot:>"
      ]
     },
     "execution_count": 12,
     "metadata": {},
     "output_type": "execute_result"
    },
    {
     "data": {
      "image/png": "[encoded data removed]",
      "text/plain": [
       "<Figure size 432x288 with 2 Axes>"
      ]
     },
     "metadata": {},
     "output_type": "display_data"
    }
   ],
   "source": [
    "star_data = {\n",
    "    'tip_spectral' : all_data['sptype'],\n",
    "    'index_culoare' : all_data['ci'],\n",
    "    'magnitudine' : all_data['absmag'],\n",
    "    'luminozitate' : all_data['lum']\n",
    "}\n",
    "star_data = pd.DataFrame.from_dict(star_data)\n",
    "star_data['tip_spectral'] = star_data['tip_spectral'].astype('category').cat.codes\n",
    "corr_matrix = star_data.corr()\n",
    "sns.heatmap(corr_matrix, annot=True)"
   ]
  },
  {
   "cell_type": "code",
   "execution_count": 13,
   "id": "adaptive-representative",
   "metadata": {
    "scrolled": false
   },
   "outputs": [
    {
     "data": {
      "image/png": "[encoded data removed]",
      "text/plain": [
       "<Figure size 432x288 with 1 Axes>"
      ]
     },
     "metadata": {},
     "output_type": "display_data"
    }
   ],
   "source": [
    "vmag = sns.histplot(all_data, x=\"absmag\", color=\"g\")"
   ]
  },
  {
   "cell_type": "code",
   "execution_count": 14,
   "id": "secondary-subscription",
   "metadata": {},
   "outputs": [
    {
     "data": {
      "image/png": "[encoded data removed]",
      "text/plain": [
       "<Figure size 432x288 with 1 Axes>"
      ]
     },
     "metadata": {},
     "output_type": "display_data"
    }
   ],
   "source": [
    "bv = sns.histplot(all_data, x=\"ci\", color=\"g\")"
   ]
  },
  {
   "cell_type": "code",
   "execution_count": 16,
   "id": "vanilla-zealand",
   "metadata": {},
   "outputs": [
    {
     "data": {
      "image/png": "[encoded data removed]",
      "text/plain": [
       "<Figure size 432x288 with 1 Axes>"
      ]
     },
     "metadata": {},
     "output_type": "display_data"
    }
   ],
   "source": [
    "g1 = sns.scatterplot(data=all_data, x='ci', y='absmag', hue='sptype')"
   ]
  },
  {
   "cell_type": "markdown",
   "id": "worst-assumption",
   "metadata": {},
   "source": [
    "## Verificam existenta outliers"
   ]
  },
  {
   "cell_type": "code",
   "execution_count": 17,
   "id": "independent-neutral",
   "metadata": {},
   "outputs": [
    {
     "data": {
      "text/plain": [
       "<AxesSubplot:xlabel='sptype', ylabel='absmag'>"
      ]
     },
     "execution_count": 17,
     "metadata": {},
     "output_type": "execute_result"
    },
    {
     "data": {
      "image/png": "[encoded data removed]",
      "text/plain": [
       "<Figure size 432x288 with 1 Axes>"
      ]
     },
     "metadata": {},
     "output_type": "display_data"
    }
   ],
   "source": [
    "sns.boxplot(x=all_data['sptype'], y=all_data['absmag'])"
   ]
  },
  {
   "cell_type": "code",
   "execution_count": 18,
   "id": "egyptian-movie",
   "metadata": {
    "scrolled": true
   },
   "outputs": [
    {
     "data": {
      "text/plain": [
       "<AxesSubplot:xlabel='sptype', ylabel='ci'>"
      ]
     },
     "execution_count": 18,
     "metadata": {},
     "output_type": "execute_result"
    },
    {
     "data": {
      "image/png": "[encoded data removed]",
      "text/plain": [
       "<Figure size 432x288 with 1 Axes>"
      ]
     },
     "metadata": {},
     "output_type": "display_data"
    }
   ],
   "source": [
    "sns.boxplot(x=all_data['sptype'], y=all_data['ci'])"
   ]
  },
  {
   "cell_type": "code",
   "execution_count": 19,
   "id": "valuable-appendix",
   "metadata": {
    "scrolled": true
   },
   "outputs": [
    {
     "data": {
      "text/plain": [
       "<AxesSubplot:xlabel='sptype', ylabel='lum'>"
      ]
     },
     "execution_count": 19,
     "metadata": {},
     "output_type": "execute_result"
    },
    {
     "data": {
      "image/png": "[encoded data removed]",
      "text/plain": [
       "<Figure size 432x288 with 1 Axes>"
      ]
     },
     "metadata": {},
     "output_type": "display_data"
    }
   ],
   "source": [
    "sns.boxplot(x=all_data['sptype'], y=all_data['lum'])"
   ]
  },
  {
   "cell_type": "markdown",
   "id": "recognized-leone",
   "metadata": {},
   "source": [
    "Mulți outliers"
   ]
  },
  {
   "cell_type": "code",
   "execution_count": null,
   "id": "specified-certification",
   "metadata": {},
   "outputs": [],
   "source": []
  },
  {
   "cell_type": "markdown",
   "id": "focal-oregon",
   "metadata": {},
   "source": [
    "# Data Preprocessing"
   ]
  },
  {
   "cell_type": "code",
   "execution_count": 21,
   "id": "ordered-elder",
   "metadata": {},
   "outputs": [
    {
     "data": {
      "text/plain": [
       "sptype      int64\n",
       "vmag      float64\n",
       "bv        float64\n",
       "lum       float64\n",
       "dtype: object"
      ]
     },
     "execution_count": 21,
     "metadata": {},
     "output_type": "execute_result"
    }
   ],
   "source": [
    "stars.dtypes"
   ]
  },
  {
   "cell_type": "code",
   "execution_count": 22,
   "id": "joint-jefferson",
   "metadata": {},
   "outputs": [
    {
     "data": {
      "text/html": [
       "<div>\n",
       "<style scoped>\n",
       "    .dataframe tbody tr th:only-of-type {\n",
       "        vertical-align: middle;\n",
       "    }\n",
       "\n",
       "    .dataframe tbody tr th {\n",
       "        vertical-align: top;\n",
       "    }\n",
       "\n",
       "    .dataframe thead th {\n",
       "        text-align: right;\n",
       "    }\n",
       "</style>\n",
       "<table border=\"1\" class=\"dataframe\">\n",
       "  <thead>\n",
       "    <tr style=\"text-align: right;\">\n",
       "      <th></th>\n",
       "      <th>sptype</th>\n",
       "      <th>vmag</th>\n",
       "      <th>bv</th>\n",
       "      <th>lum</th>\n",
       "    </tr>\n",
       "  </thead>\n",
       "  <tbody>\n",
       "    <tr>\n",
       "      <th>0</th>\n",
       "      <td>5.0</td>\n",
       "      <td>-12.190</td>\n",
       "      <td>1.367</td>\n",
       "      <td>6.546362e+06</td>\n",
       "    </tr>\n",
       "    <tr>\n",
       "      <th>1</th>\n",
       "      <td>5.0</td>\n",
       "      <td>0.206</td>\n",
       "      <td>1.244</td>\n",
       "      <td>7.204436e+01</td>\n",
       "    </tr>\n",
       "    <tr>\n",
       "      <th>2</th>\n",
       "      <td>2.0</td>\n",
       "      <td>2.713</td>\n",
       "      <td>0.404</td>\n",
       "      <td>7.158137e+00</td>\n",
       "    </tr>\n",
       "    <tr>\n",
       "      <th>3</th>\n",
       "      <td>5.0</td>\n",
       "      <td>-0.475</td>\n",
       "      <td>1.176</td>\n",
       "      <td>1.348963e+02</td>\n",
       "    </tr>\n",
       "    <tr>\n",
       "      <th>4</th>\n",
       "      <td>1.0</td>\n",
       "      <td>2.584</td>\n",
       "      <td>0.238</td>\n",
       "      <td>8.061206e+00</td>\n",
       "    </tr>\n",
       "  </tbody>\n",
       "</table>\n",
       "</div>"
      ],
      "text/plain": [
       "   sptype    vmag     bv           lum\n",
       "0     5.0 -12.190  1.367  6.546362e+06\n",
       "1     5.0   0.206  1.244  7.204436e+01\n",
       "2     2.0   2.713  0.404  7.158137e+00\n",
       "3     5.0  -0.475  1.176  1.348963e+02\n",
       "4     1.0   2.584  0.238  8.061206e+00"
      ]
     },
     "execution_count": 22,
     "metadata": {},
     "output_type": "execute_result"
    }
   ],
   "source": [
    "stars['sptype'] = stars['sptype'].astype(float)\n",
    "stars1 = stars.copy()\n",
    "stars1.head()"
   ]
  },
  {
   "cell_type": "markdown",
   "id": "interim-cursor",
   "metadata": {},
   "source": [
    "### Data Scaling"
   ]
  },
  {
   "cell_type": "markdown",
   "id": "decimal-writer",
   "metadata": {},
   "source": [
    ">NoScaler"
   ]
  },
  {
   "cell_type": "code",
   "execution_count": 23,
   "id": "educational-cigarette",
   "metadata": {},
   "outputs": [
    {
     "name": "stdout",
     "output_type": "stream",
     "text": [
      "X_train shape is (91722, 3)\n",
      "X_test shape is (22931, 3)\n",
      "y_train shape is (91722,)\n",
      "y_test shape is (22931,)\n"
     ]
    }
   ],
   "source": [
    "X_train, X_test, y_train, y_test = train_test_split(stars.drop(['sptype'],axis=1), stars['sptype'], test_size=0.20)\n",
    "print(\"X_train shape is\", X_train.shape)\n",
    "print(\"X_test shape is\", X_test.shape)\n",
    "print(\"y_train shape is\", y_train.shape)\n",
    "print(\"y_test shape is\", y_test.shape)"
   ]
  },
  {
   "cell_type": "markdown",
   "id": "opposite-cartoon",
   "metadata": {},
   "source": [
    "#### LogisticRegression"
   ]
  },
  {
   "cell_type": "code",
   "execution_count": 21,
   "id": "efficient-cyprus",
   "metadata": {},
   "outputs": [
    {
     "name": "stdout",
     "output_type": "stream",
     "text": [
      "              precision    recall  f1-score   support\n",
      "\n",
      "         1.0       0.59      0.30      0.40       373\n",
      "         2.0       0.74      0.79      0.76      1832\n",
      "         3.0       0.76      0.81      0.78      3231\n",
      "         4.0       0.70      0.66      0.67      2637\n",
      "         5.0       0.81      0.83      0.82      2550\n",
      "         6.0       0.78      0.59      0.67       175\n",
      "\n",
      "    accuracy                           0.75     10798\n",
      "   macro avg       0.73      0.66      0.69     10798\n",
      "weighted avg       0.75      0.75      0.75     10798\n",
      "\n"
     ]
    },
    {
     "name": "stderr",
     "output_type": "stream",
     "text": [
      "C:\\Users\\Lucian\\.conda\\envs\\R\\lib\\site-packages\\sklearn\\linear_model\\_logistic.py:763: ConvergenceWarning: lbfgs failed to converge (status=1):\n",
      "STOP: TOTAL NO. of f AND g EVALUATIONS EXCEEDS LIMIT.\n",
      "\n",
      "Increase the number of iterations (max_iter) or scale the data as shown in:\n",
      "    https://scikit-learn.org/stable/modules/preprocessing.html\n",
      "Please also refer to the documentation for alternative solver options:\n",
      "    https://scikit-learn.org/stable/modules/linear_model.html#logistic-regression\n",
      "  n_iter_i = _check_optimize_result(\n"
     ]
    }
   ],
   "source": [
    "logreg = LogisticRegression(max_iter=100000)\n",
    "logreg.fit(X_train, y_train)\n",
    "predictions = logreg.predict(X_test)\n",
    "\n",
    "print(classification_report(y_test, predictions, zero_division=0))"
   ]
  },
  {
   "cell_type": "markdown",
   "id": "closing-delicious",
   "metadata": {},
   "source": [
    "#### RandomForest"
   ]
  },
  {
   "cell_type": "code",
   "execution_count": 24,
   "id": "durable-metropolitan",
   "metadata": {},
   "outputs": [
    {
     "name": "stdout",
     "output_type": "stream",
     "text": [
      "              precision    recall  f1-score   support\n",
      "\n",
      "         0.0       0.00      0.00      0.00        48\n",
      "         1.0       0.66      0.63      0.65      2026\n",
      "         2.0       0.73      0.73      0.73      3730\n",
      "         3.0       0.78      0.81      0.79      5150\n",
      "         4.0       0.66      0.63      0.64      4457\n",
      "         5.0       0.76      0.81      0.79      6412\n",
      "         6.0       0.59      0.48      0.53      1108\n",
      "\n",
      "    accuracy                           0.73     22931\n",
      "   macro avg       0.60      0.58      0.59     22931\n",
      "weighted avg       0.72      0.73      0.72     22931\n",
      "\n"
     ]
    }
   ],
   "source": [
    "rfc = RandomForestClassifier()\n",
    "rfc.fit(X_train,y_train)\n",
    "\n",
    "pred_rfc = rfc.predict(X_test)\n",
    "print(classification_report(y_test, pred_rfc, zero_division=0))"
   ]
  },
  {
   "cell_type": "markdown",
   "id": "subjective-fluid",
   "metadata": {},
   "source": [
    "#### Gaussian Naive Bayes"
   ]
  },
  {
   "cell_type": "code",
   "execution_count": 25,
   "id": "soviet-angle",
   "metadata": {},
   "outputs": [
    {
     "name": "stdout",
     "output_type": "stream",
     "text": [
      "              precision    recall  f1-score   support\n",
      "\n",
      "         0.0       0.12      0.10      0.11        48\n",
      "         1.0       0.45      0.04      0.07      2026\n",
      "         2.0       0.00      0.00      0.00      3730\n",
      "         3.0       0.04      0.00      0.00      5150\n",
      "         4.0       0.09      0.01      0.01      4457\n",
      "         5.0       0.28      0.97      0.43      6412\n",
      "         6.0       0.00      0.00      0.00      1108\n",
      "\n",
      "    accuracy                           0.28     22931\n",
      "   macro avg       0.14      0.16      0.09     22931\n",
      "weighted avg       0.14      0.28      0.13     22931\n",
      "\n"
     ]
    }
   ],
   "source": [
    "gnc = GaussianNB()\n",
    "gnc.fit(X_train,y_train)\n",
    "\n",
    "pred_gnc = gnc.predict(X_test)\n",
    "print(classification_report(y_test, pred_gnc, zero_division=0))"
   ]
  },
  {
   "cell_type": "markdown",
   "id": "educated-skiing",
   "metadata": {},
   "source": [
    "#### Support Vector Classifier "
   ]
  },
  {
   "cell_type": "code",
   "execution_count": null,
   "id": "returning-thesis",
   "metadata": {},
   "outputs": [],
   "source": [
    "svc = SVC(kernel='rbf')\n",
    "svc.fit(X_train,y_train)\n",
    "\n",
    "pred_svc = svc.predict(X_test)\n",
    "print(classification_report(y_test, pred_svc, zero_division=0))"
   ]
  },
  {
   "cell_type": "markdown",
   "id": "appointed-sleeping",
   "metadata": {},
   "source": [
    "#### DecisionTreeClassifier"
   ]
  },
  {
   "cell_type": "code",
   "execution_count": null,
   "id": "aware-amateur",
   "metadata": {},
   "outputs": [],
   "source": [
    "accuracy_scores = []\n",
    "max_depths = []\n",
    "\n",
    "for max_depth in range(1, 15):\n",
    "    model = DecisionTreeClassifier(max_depth = max_depth)\n",
    "    model.fit(X_train, y_train)\n",
    "\n",
    "    test_prediction = model.predict(X_test)\n",
    "    test_accuracy = accuracy_score(y_test, test_prediction)\n",
    "\n",
    "    max_depths.append(max_depth)\n",
    "    accuracy_scores.append(test_accuracy)\n",
    "\n",
    "ax = sns.lineplot(x = max_depths, y = accuracy_scores)\n",
    "ax.set(xlabel='Decision Tree Max Depth', ylabel='Accuracy Score')\n",
    "print(f'Best accuracy score |{max(accuracy_scores)}| achieved at max depth |{np.argmax(accuracy_scores) + 1}|')"
   ]
  },
  {
   "cell_type": "markdown",
   "id": "abstract-stereo",
   "metadata": {},
   "source": [
    ">MinMax Scaler"
   ]
  },
  {
   "cell_type": "code",
   "execution_count": 87,
   "id": "according-prize",
   "metadata": {},
   "outputs": [
    {
     "data": {
      "text/html": [
       "<div>\n",
       "<style scoped>\n",
       "    .dataframe tbody tr th:only-of-type {\n",
       "        vertical-align: middle;\n",
       "    }\n",
       "\n",
       "    .dataframe tbody tr th {\n",
       "        vertical-align: top;\n",
       "    }\n",
       "\n",
       "    .dataframe thead th {\n",
       "        text-align: right;\n",
       "    }\n",
       "</style>\n",
       "<table border=\"1\" class=\"dataframe\">\n",
       "  <thead>\n",
       "    <tr style=\"text-align: right;\">\n",
       "      <th></th>\n",
       "      <th>hip</th>\n",
       "      <th>sptype</th>\n",
       "      <th>vmag</th>\n",
       "      <th>bv</th>\n",
       "      <th>temp</th>\n",
       "      <th>rad</th>\n",
       "    </tr>\n",
       "  </thead>\n",
       "  <tbody>\n",
       "    <tr>\n",
       "      <th>0</th>\n",
       "      <td>89954</td>\n",
       "      <td>2.0</td>\n",
       "      <td>0.385027</td>\n",
       "      <td>0.249</td>\n",
       "      <td>0.154542</td>\n",
       "      <td>0.004239</td>\n",
       "    </tr>\n",
       "    <tr>\n",
       "      <th>1</th>\n",
       "      <td>86572</td>\n",
       "      <td>2.0</td>\n",
       "      <td>0.409820</td>\n",
       "      <td>0.149</td>\n",
       "      <td>0.171268</td>\n",
       "      <td>0.005276</td>\n",
       "    </tr>\n",
       "    <tr>\n",
       "      <th>2</th>\n",
       "      <td>87144</td>\n",
       "      <td>2.0</td>\n",
       "      <td>0.469616</td>\n",
       "      <td>0.135</td>\n",
       "      <td>0.187930</td>\n",
       "      <td>0.002241</td>\n",
       "    </tr>\n",
       "    <tr>\n",
       "      <th>3</th>\n",
       "      <td>87760</td>\n",
       "      <td>2.0</td>\n",
       "      <td>0.468644</td>\n",
       "      <td>0.279</td>\n",
       "      <td>0.144306</td>\n",
       "      <td>0.002921</td>\n",
       "    </tr>\n",
       "    <tr>\n",
       "      <th>4</th>\n",
       "      <td>87482</td>\n",
       "      <td>2.0</td>\n",
       "      <td>0.493923</td>\n",
       "      <td>0.281</td>\n",
       "      <td>0.135361</td>\n",
       "      <td>0.003177</td>\n",
       "    </tr>\n",
       "  </tbody>\n",
       "</table>\n",
       "</div>"
      ],
      "text/plain": [
       "     hip  sptype      vmag     bv      temp       rad\n",
       "0  89954     2.0  0.385027  0.249  0.154542  0.004239\n",
       "1  86572     2.0  0.409820  0.149  0.171268  0.005276\n",
       "2  87144     2.0  0.469616  0.135  0.187930  0.002241\n",
       "3  87760     2.0  0.468644  0.279  0.144306  0.002921\n",
       "4  87482     2.0  0.493923  0.281  0.135361  0.003177"
      ]
     },
     "execution_count": 87,
     "metadata": {},
     "output_type": "execute_result"
    }
   ],
   "source": [
    "scaler = MinMaxScaler()\n",
    "\n",
    "stars1['vmag'] = scaler.fit_transform(np.expand_dims(stars1['vmag'], axis=1))\n",
    "stars1['bv'] = scaler.fit_transform(np.expand_dims(stars1['bv'], axis=1))\n",
    "stars1['lum'] = scaler.fit_transform(np.expand_dims(stars1['lum'], axis=1))\n",
    "\n",
    "stars1.head()"
   ]
  },
  {
   "cell_type": "code",
   "execution_count": 88,
   "id": "interested-genealogy",
   "metadata": {},
   "outputs": [
    {
     "name": "stdout",
     "output_type": "stream",
     "text": [
      "X_train shape is (43191, 4)\n",
      "X_test shape is (10798, 4)\n",
      "y_train shape is (43191,)\n",
      "y_test shape is (10798,)\n"
     ]
    }
   ],
   "source": [
    "X_train, X_test, y_train, y_test = train_test_split(stars1.drop(['hip','sptype'],axis=1), stars1['sptype'], test_size=0.20)\n",
    "print(\"X_train shape is\", X_train.shape)\n",
    "print(\"X_test shape is\", X_test.shape)\n",
    "print(\"y_train shape is\", y_train.shape)\n",
    "print(\"y_test shape is\", y_test.shape)"
   ]
  },
  {
   "cell_type": "markdown",
   "id": "cleared-scene",
   "metadata": {},
   "source": [
    "#### LogisticRegression"
   ]
  },
  {
   "cell_type": "code",
   "execution_count": 89,
   "id": "coral-donor",
   "metadata": {},
   "outputs": [
    {
     "name": "stdout",
     "output_type": "stream",
     "text": [
      "              precision    recall  f1-score   support\n",
      "\n",
      "         1.0       0.81      0.38      0.52       357\n",
      "         2.0       0.83      0.87      0.85      1818\n",
      "         3.0       0.84      0.90      0.87      3227\n",
      "         4.0       0.79      0.73      0.76      2638\n",
      "         5.0       0.82      0.87      0.85      2574\n",
      "         6.0       0.80      0.39      0.52       184\n",
      "\n",
      "    accuracy                           0.82     10798\n",
      "   macro avg       0.82      0.69      0.73     10798\n",
      "weighted avg       0.82      0.82      0.82     10798\n",
      "\n"
     ]
    }
   ],
   "source": [
    "s_logreg = LogisticRegression(max_iter=1000000)\n",
    "s_logreg.fit(X_train, y_train)\n",
    "s_pred_lreg = s_logreg.predict(X_test)\n",
    "\n",
    "print(classification_report(y_test, s_pred_lreg, zero_division=0))"
   ]
  },
  {
   "cell_type": "markdown",
   "id": "noticed-botswana",
   "metadata": {},
   "source": [
    "#### RandomForest"
   ]
  },
  {
   "cell_type": "code",
   "execution_count": 90,
   "id": "demographic-there",
   "metadata": {},
   "outputs": [
    {
     "name": "stdout",
     "output_type": "stream",
     "text": [
      "              precision    recall  f1-score   support\n",
      "\n",
      "         1.0       0.70      0.61      0.65       357\n",
      "         2.0       0.85      0.86      0.85      1818\n",
      "         3.0       0.85      0.89      0.87      3227\n",
      "         4.0       0.78      0.74      0.76      2638\n",
      "         5.0       0.83      0.86      0.85      2574\n",
      "         6.0       0.82      0.67      0.74       184\n",
      "\n",
      "    accuracy                           0.83     10798\n",
      "   macro avg       0.81      0.77      0.79     10798\n",
      "weighted avg       0.82      0.83      0.82     10798\n",
      "\n"
     ]
    }
   ],
   "source": [
    "s_rfc = RandomForestClassifier(n_estimators=100)\n",
    "s_rfc.fit(X_train,y_train)\n",
    "\n",
    "s_pred_rfc = s_rfc.predict(X_test)\n",
    "print(classification_report(y_test, s_pred_rfc, zero_division=0))"
   ]
  },
  {
   "cell_type": "code",
   "execution_count": 91,
   "id": "processed-paraguay",
   "metadata": {},
   "outputs": [
    {
     "name": "stdout",
     "output_type": "stream",
     "text": [
      "Best accuracy score |0.8402481941100204| achieved at max depth |8|\n"
     ]
    }
   ],
   "source": [
    "sr_accuracy_scores = []\n",
    "sr_max_depths = []\n",
    "\n",
    "for sr_max_depth in range(1, 20):\n",
    "    sr_rfc = RandomForestClassifier(n_estimators=100, max_depth = sr_max_depth)\n",
    "    sr_rfc.fit(X_train,y_train)\n",
    "\n",
    "    sr_pred_rfc = sr_rfc.predict(X_test)\n",
    "    sr_test_accuracy = accuracy_score(y_test, sr_pred_rfc)\n",
    "\n",
    "    sr_max_depths.append(sr_max_depth)\n",
    "    sr_accuracy_scores.append(sr_test_accuracy)\n",
    "\n",
    "print(f'Best accuracy score |{max(sr_accuracy_scores)}| achieved at max depth |{np.argmax(sr_accuracy_scores) + 1}|')"
   ]
  },
  {
   "cell_type": "code",
   "execution_count": 92,
   "id": "cultural-glasgow",
   "metadata": {},
   "outputs": [
    {
     "data": {
      "text/plain": [
       "[Text(0.5, 0, 'Random Forest Max Depth'), Text(0, 0.5, 'Accuracy Score')]"
      ]
     },
     "execution_count": 92,
     "metadata": {},
     "output_type": "execute_result"
    },
    {
     "data": {
      "image/png": "[encoded data removed]",
      "text/plain": [
       "<Figure size 432x288 with 1 Axes>"
      ]
     },
     "metadata": {},
     "output_type": "display_data"
    }
   ],
   "source": [
    "ax = sns.lineplot(x = sr_max_depths, y = sr_accuracy_scores)\n",
    "ax.set(xlabel='Random Forest Max Depth', ylabel='Accuracy Score')"
   ]
  },
  {
   "cell_type": "markdown",
   "id": "external-houston",
   "metadata": {},
   "source": [
    "#### Gaussian Naive Bayes"
   ]
  },
  {
   "cell_type": "code",
   "execution_count": 93,
   "id": "super-acrobat",
   "metadata": {},
   "outputs": [
    {
     "name": "stdout",
     "output_type": "stream",
     "text": [
      "              precision    recall  f1-score   support\n",
      "\n",
      "         1.0       0.62      0.71      0.66       357\n",
      "         2.0       0.86      0.81      0.84      1818\n",
      "         3.0       0.79      0.93      0.85      3227\n",
      "         4.0       0.76      0.57      0.65      2638\n",
      "         5.0       0.78      0.79      0.78      2574\n",
      "         6.0       0.48      0.85      0.61       184\n",
      "\n",
      "    accuracy                           0.78     10798\n",
      "   macro avg       0.71      0.78      0.73     10798\n",
      "weighted avg       0.78      0.78      0.77     10798\n",
      "\n"
     ]
    }
   ],
   "source": [
    "s_gnc = GaussianNB()\n",
    "s_gnc.fit(X_train,y_train)\n",
    "\n",
    "s_pred_gnc = s_gnc.predict(X_test)\n",
    "print(classification_report(y_test, s_pred_gnc, zero_division=0))"
   ]
  },
  {
   "cell_type": "markdown",
   "id": "pursuant-harbor",
   "metadata": {},
   "source": [
    "#### Support Vector Classifier "
   ]
  },
  {
   "cell_type": "code",
   "execution_count": 96,
   "id": "professional-temple",
   "metadata": {},
   "outputs": [
    {
     "name": "stdout",
     "output_type": "stream",
     "text": [
      "              precision    recall  f1-score   support\n",
      "\n",
      "         1.0       0.77      0.49      0.60       357\n",
      "         2.0       0.83      0.89      0.86      1818\n",
      "         3.0       0.86      0.90      0.88      3227\n",
      "         4.0       0.80      0.75      0.78      2638\n",
      "         5.0       0.85      0.87      0.86      2574\n",
      "         6.0       0.91      0.64      0.75       184\n",
      "\n",
      "    accuracy                           0.84     10798\n",
      "   macro avg       0.84      0.76      0.79     10798\n",
      "weighted avg       0.84      0.84      0.83     10798\n",
      "\n"
     ]
    }
   ],
   "source": [
    "s_svc = SVC(kernel='poly')\n",
    "s_svc.fit(X_train,y_train)\n",
    "\n",
    "s_pred_svc = s_svc.predict(X_test)\n",
    "print(classification_report(y_test, s_pred_svc, zero_division=0))"
   ]
  },
  {
   "cell_type": "markdown",
   "id": "generous-volunteer",
   "metadata": {},
   "source": [
    "#### DecisionTreeClassifier"
   ]
  },
  {
   "cell_type": "code",
   "execution_count": 97,
   "id": "numeric-envelope",
   "metadata": {
    "scrolled": true
   },
   "outputs": [
    {
     "name": "stdout",
     "output_type": "stream",
     "text": [
      "Best accuracy score |0.8320059270235228| achieved at max depth |7|\n"
     ]
    },
    {
     "data": {
      "image/png": "[encoded data removed]",
      "text/plain": [
       "<Figure size 432x288 with 1 Axes>"
      ]
     },
     "metadata": {},
     "output_type": "display_data"
    }
   ],
   "source": [
    "s_accuracy_scores = []\n",
    "s_max_depths = []\n",
    "\n",
    "for s_max_depth in range(1, 15):\n",
    "    s_model = DecisionTreeClassifier(max_depth = s_max_depth)\n",
    "    s_model.fit(X_train, y_train)\n",
    "\n",
    "    s_test_prediction = s_model.predict(X_test)\n",
    "    s_test_accuracy = accuracy_score(y_test, s_test_prediction)\n",
    "\n",
    "    s_max_depths.append(s_max_depth)\n",
    "    s_accuracy_scores.append(s_test_accuracy)\n",
    "\n",
    "ax = sns.lineplot(x = s_max_depths, y = s_accuracy_scores)\n",
    "ax.set(xlabel='Decision Tree Max Depth', ylabel='Accuracy Score')\n",
    "print(f'Best accuracy score |{max(s_accuracy_scores)}| achieved at max depth |{np.argmax(s_accuracy_scores) + 1}|')"
   ]
  },
  {
   "cell_type": "code",
   "execution_count": null,
   "id": "emerging-planet",
   "metadata": {},
   "outputs": [],
   "source": []
  },
  {
   "cell_type": "markdown",
   "id": "activated-groove",
   "metadata": {},
   "source": [
    "### Feature Importance"
   ]
  },
  {
   "cell_type": "code",
   "execution_count": 98,
   "id": "statistical-investigation",
   "metadata": {},
   "outputs": [
    {
     "data": {
      "text/plain": [
       "temp    0.396457\n",
       "bv      0.373932\n",
       "rad     0.116425\n",
       "vmag    0.113186\n",
       "dtype: float64"
      ]
     },
     "execution_count": 98,
     "metadata": {},
     "output_type": "execute_result"
    }
   ],
   "source": [
    "f_imp = pd.Series(s_rfc.feature_importances_,index=X_train.columns.values).sort_values(ascending=False)\n",
    "f_imp"
   ]
  },
  {
   "cell_type": "markdown",
   "id": "municipal-direction",
   "metadata": {},
   "source": [
    "## PCA"
   ]
  },
  {
   "cell_type": "code",
   "execution_count": 99,
   "id": "removable-summit",
   "metadata": {},
   "outputs": [
    {
     "data": {
      "text/html": [
       "<div>\n",
       "<style scoped>\n",
       "    .dataframe tbody tr th:only-of-type {\n",
       "        vertical-align: middle;\n",
       "    }\n",
       "\n",
       "    .dataframe tbody tr th {\n",
       "        vertical-align: top;\n",
       "    }\n",
       "\n",
       "    .dataframe thead th {\n",
       "        text-align: right;\n",
       "    }\n",
       "</style>\n",
       "<table border=\"1\" class=\"dataframe\">\n",
       "  <thead>\n",
       "    <tr style=\"text-align: right;\">\n",
       "      <th></th>\n",
       "      <th>hip</th>\n",
       "      <th>sptype</th>\n",
       "      <th>vmag</th>\n",
       "      <th>bv</th>\n",
       "      <th>temp</th>\n",
       "      <th>rad</th>\n",
       "    </tr>\n",
       "  </thead>\n",
       "  <tbody>\n",
       "    <tr>\n",
       "      <th>0</th>\n",
       "      <td>89954</td>\n",
       "      <td>2.0</td>\n",
       "      <td>0.59</td>\n",
       "      <td>0.249</td>\n",
       "      <td>8017.0</td>\n",
       "      <td>3.051</td>\n",
       "    </tr>\n",
       "    <tr>\n",
       "      <th>1</th>\n",
       "      <td>86572</td>\n",
       "      <td>2.0</td>\n",
       "      <td>1.10</td>\n",
       "      <td>0.149</td>\n",
       "      <td>8535.0</td>\n",
       "      <td>3.762</td>\n",
       "    </tr>\n",
       "    <tr>\n",
       "      <th>2</th>\n",
       "      <td>87144</td>\n",
       "      <td>2.0</td>\n",
       "      <td>2.33</td>\n",
       "      <td>0.135</td>\n",
       "      <td>9051.0</td>\n",
       "      <td>1.680</td>\n",
       "    </tr>\n",
       "    <tr>\n",
       "      <th>3</th>\n",
       "      <td>87760</td>\n",
       "      <td>2.0</td>\n",
       "      <td>2.31</td>\n",
       "      <td>0.279</td>\n",
       "      <td>7700.0</td>\n",
       "      <td>2.147</td>\n",
       "    </tr>\n",
       "    <tr>\n",
       "      <th>4</th>\n",
       "      <td>87482</td>\n",
       "      <td>2.0</td>\n",
       "      <td>2.83</td>\n",
       "      <td>0.281</td>\n",
       "      <td>7423.0</td>\n",
       "      <td>2.322</td>\n",
       "    </tr>\n",
       "  </tbody>\n",
       "</table>\n",
       "</div>"
      ],
      "text/plain": [
       "     hip  sptype  vmag     bv    temp    rad\n",
       "0  89954     2.0  0.59  0.249  8017.0  3.051\n",
       "1  86572     2.0  1.10  0.149  8535.0  3.762\n",
       "2  87144     2.0  2.33  0.135  9051.0  1.680\n",
       "3  87760     2.0  2.31  0.279  7700.0  2.147\n",
       "4  87482     2.0  2.83  0.281  7423.0  2.322"
      ]
     },
     "execution_count": 99,
     "metadata": {},
     "output_type": "execute_result"
    }
   ],
   "source": [
    "stars2 = stars.copy()\n",
    "stars2.head()"
   ]
  },
  {
   "cell_type": "code",
   "execution_count": 100,
   "id": "bright-winter",
   "metadata": {},
   "outputs": [],
   "source": [
    "features = stars2.drop(['hip','sptype'], axis = 1)\n",
    "labels = stars2['sptype']\n",
    "\n",
    "scaler = StandardScaler()\n",
    "scaled_train_features = scaler.fit_transform(features)"
   ]
  },
  {
   "cell_type": "code",
   "execution_count": 101,
   "id": "thick-valve",
   "metadata": {},
   "outputs": [
    {
     "data": {
      "text/plain": [
       "Text(0.5, 0, 'Principal Component Number')"
      ]
     },
     "execution_count": 101,
     "metadata": {},
     "output_type": "execute_result"
    },
    {
     "data": {
      "image/png": "[encoded data removed]",
      "text/plain": [
       "<Figure size 432x288 with 1 Axes>"
      ]
     },
     "metadata": {},
     "output_type": "display_data"
    }
   ],
   "source": [
    "pca = PCA()\n",
    "pca.fit(scaled_train_features)\n",
    "explained_var = pca.explained_variance_ratio_\n",
    "\n",
    "fig, ax = plt.subplots()\n",
    "ax.bar(range(pca.n_components_), explained_var)\n",
    "ax.set_xlabel('Principal Component Number')"
   ]
  },
  {
   "cell_type": "code",
   "execution_count": 102,
   "id": "stock-blast",
   "metadata": {
    "scrolled": true
   },
   "outputs": [
    {
     "data": {
      "text/plain": [
       "<matplotlib.lines.Line2D at 0x18afe293c40>"
      ]
     },
     "execution_count": 102,
     "metadata": {},
     "output_type": "execute_result"
    },
    {
     "data": {
      "image/png": "[encoded data removed]",
      "text/plain": [
       "<Figure size 432x288 with 1 Axes>"
      ]
     },
     "metadata": {},
     "output_type": "display_data"
    }
   ],
   "source": [
    "cumulative_exp_var = np.cumsum(explained_var)\n",
    "\n",
    "fig, ax = plt.subplots()\n",
    "ax.plot(cumulative_exp_var)\n",
    "ax.axhline(y=0.85, linestyle=':')"
   ]
  },
  {
   "cell_type": "code",
   "execution_count": 104,
   "id": "convertible-theater",
   "metadata": {
    "scrolled": true
   },
   "outputs": [
    {
     "name": "stdout",
     "output_type": "stream",
     "text": [
      "X_train shape is (43191, 4)\n",
      "X_test shape is (10798, 4)\n",
      "y_train shape is (43191,)\n",
      "y_test shape is (10798,)\n"
     ]
    }
   ],
   "source": [
    "n_component = 1\n",
    "\n",
    "pca = PCA(n_component)\n",
    "pca.fit(scaled_train_features)\n",
    "pca_projection = pca.transform(scaled_train_features)\n",
    "\n",
    "X_train, X_test, y_train, y_test = train_test_split(stars1.drop(['hip','sptype'],axis=1), stars1['sptype'], test_size=0.20)\n",
    "print(\"X_train shape is\", X_train.shape)\n",
    "print(\"X_test shape is\", X_test.shape)\n",
    "print(\"y_train shape is\", y_train.shape)\n",
    "print(\"y_test shape is\", y_test.shape)"
   ]
  },
  {
   "cell_type": "markdown",
   "id": "continent-whole",
   "metadata": {},
   "source": [
    "#### LogisticRegression"
   ]
  },
  {
   "cell_type": "code",
   "execution_count": 105,
   "id": "living-guess",
   "metadata": {},
   "outputs": [
    {
     "name": "stdout",
     "output_type": "stream",
     "text": [
      "              precision    recall  f1-score   support\n",
      "\n",
      "         1.0       0.87      0.38      0.53       380\n",
      "         2.0       0.83      0.87      0.85      1856\n",
      "         3.0       0.84      0.90      0.87      3155\n",
      "         4.0       0.80      0.75      0.77      2613\n",
      "         5.0       0.83      0.87      0.85      2608\n",
      "         6.0       0.74      0.44      0.55       186\n",
      "\n",
      "    accuracy                           0.83     10798\n",
      "   macro avg       0.82      0.70      0.74     10798\n",
      "weighted avg       0.82      0.83      0.82     10798\n",
      "\n"
     ]
    }
   ],
   "source": [
    "pca_logreg = LogisticRegression(max_iter=1000000)\n",
    "pca_logreg.fit(X_train, y_train)\n",
    "pca_pred_lreg = pca_logreg.predict(X_test)\n",
    "\n",
    "print(classification_report(y_test, pca_pred_lreg, zero_division=0))"
   ]
  },
  {
   "cell_type": "markdown",
   "id": "suffering-romance",
   "metadata": {},
   "source": [
    "#### RandomForest"
   ]
  },
  {
   "cell_type": "code",
   "execution_count": 106,
   "id": "verbal-active",
   "metadata": {},
   "outputs": [
    {
     "name": "stdout",
     "output_type": "stream",
     "text": [
      "              precision    recall  f1-score   support\n",
      "\n",
      "         1.0       0.78      0.61      0.69       380\n",
      "         2.0       0.84      0.88      0.86      1856\n",
      "         3.0       0.85      0.88      0.87      3155\n",
      "         4.0       0.79      0.75      0.77      2613\n",
      "         5.0       0.85      0.87      0.86      2608\n",
      "         6.0       0.87      0.72      0.78       186\n",
      "\n",
      "    accuracy                           0.83     10798\n",
      "   macro avg       0.83      0.79      0.80     10798\n",
      "weighted avg       0.83      0.83      0.83     10798\n",
      "\n"
     ]
    }
   ],
   "source": [
    "pca_rfc = RandomForestClassifier(n_estimators=100)\n",
    "pca_rfc.fit(X_train,y_train)\n",
    "\n",
    "pca_pred_rfc = pca_rfc.predict(X_test)\n",
    "print(classification_report(y_test, pca_pred_rfc, zero_division=0))"
   ]
  },
  {
   "cell_type": "code",
   "execution_count": 107,
   "id": "objective-color",
   "metadata": {},
   "outputs": [
    {
     "name": "stdout",
     "output_type": "stream",
     "text": [
      "Best accuracy score |0.8445082422670865| achieved at max depth |11|\n"
     ]
    }
   ],
   "source": [
    "pca_accuracy_scores = []\n",
    "pca_max_depths = []\n",
    "\n",
    "for pca_max_depth in range(1, 20):\n",
    "    pca_rfc = RandomForestClassifier(n_estimators=100, max_depth = pca_max_depth)\n",
    "    pca_rfc.fit(X_train,y_train)\n",
    "\n",
    "    pca_pred_rfc = pca_rfc.predict(X_test)\n",
    "    pca_test_accuracy = accuracy_score(y_test, pca_pred_rfc)\n",
    "\n",
    "    pca_max_depths.append(pca_max_depth)\n",
    "    pca_accuracy_scores.append(pca_test_accuracy)\n",
    "\n",
    "print(f'Best accuracy score |{max(pca_accuracy_scores)}| achieved at max depth |{np.argmax(pca_accuracy_scores) + 1}|')"
   ]
  },
  {
   "cell_type": "code",
   "execution_count": 108,
   "id": "featured-museum",
   "metadata": {},
   "outputs": [
    {
     "data": {
      "text/plain": [
       "[Text(0.5, 0, 'Random Forest Max Depth'), Text(0, 0.5, 'Accuracy Score')]"
      ]
     },
     "execution_count": 108,
     "metadata": {},
     "output_type": "execute_result"
    },
    {
     "data": {
      "image/png": "[encoded data removed]",
      "text/plain": [
       "<Figure size 432x288 with 1 Axes>"
      ]
     },
     "metadata": {},
     "output_type": "display_data"
    }
   ],
   "source": [
    "ax = sns.lineplot(x = pca_max_depths, y = pca_accuracy_scores)\n",
    "ax.set(xlabel='Random Forest Max Depth', ylabel='Accuracy Score')"
   ]
  },
  {
   "cell_type": "markdown",
   "id": "strong-domain",
   "metadata": {},
   "source": [
    "#### Gaussian Naive Bayes"
   ]
  },
  {
   "cell_type": "code",
   "execution_count": 109,
   "id": "loving-funeral",
   "metadata": {},
   "outputs": [
    {
     "name": "stdout",
     "output_type": "stream",
     "text": [
      "              precision    recall  f1-score   support\n",
      "\n",
      "         1.0       0.66      0.73      0.70       380\n",
      "         2.0       0.87      0.83      0.85      1856\n",
      "         3.0       0.80      0.93      0.86      3155\n",
      "         4.0       0.76      0.59      0.67      2613\n",
      "         5.0       0.79      0.79      0.79      2608\n",
      "         6.0       0.50      0.88      0.64       186\n",
      "\n",
      "    accuracy                           0.79     10798\n",
      "   macro avg       0.73      0.79      0.75     10798\n",
      "weighted avg       0.79      0.79      0.78     10798\n",
      "\n"
     ]
    }
   ],
   "source": [
    "pca_gnc = GaussianNB()\n",
    "pca_gnc.fit(X_train,y_train)\n",
    "\n",
    "pca_pred_gnc = pca_gnc.predict(X_test)\n",
    "print(classification_report(y_test, pca_pred_gnc, zero_division=0))"
   ]
  },
  {
   "cell_type": "markdown",
   "id": "pursuant-harbor",
   "metadata": {},
   "source": [
    "#### Support Vector Classifier "
   ]
  },
  {
   "cell_type": "code",
   "execution_count": 111,
   "id": "professional-temple",
   "metadata": {},
   "outputs": [
    {
     "name": "stdout",
     "output_type": "stream",
     "text": [
      "              precision    recall  f1-score   support\n",
      "\n",
      "         1.0       0.84      0.49      0.62       380\n",
      "         2.0       0.83      0.90      0.86      1856\n",
      "         3.0       0.86      0.89      0.87      3155\n",
      "         4.0       0.80      0.77      0.79      2613\n",
      "         5.0       0.86      0.88      0.87      2608\n",
      "         6.0       0.90      0.70      0.79       186\n",
      "\n",
      "    accuracy                           0.84     10798\n",
      "   macro avg       0.85      0.77      0.80     10798\n",
      "weighted avg       0.84      0.84      0.84     10798\n",
      "\n"
     ]
    }
   ],
   "source": [
    "pca_svc = SVC(kernel='poly')\n",
    "pca_svc.fit(X_train,y_train)\n",
    "\n",
    "pca_pred_svc = pca_svc.predict(X_test)\n",
    "print(classification_report(y_test, pca_pred_svc, zero_division=0))"
   ]
  },
  {
   "cell_type": "markdown",
   "id": "generous-volunteer",
   "metadata": {},
   "source": [
    "#### DecisionTreeClassifier"
   ]
  },
  {
   "cell_type": "code",
   "execution_count": 112,
   "id": "numeric-envelope",
   "metadata": {
    "scrolled": true
   },
   "outputs": [
    {
     "name": "stdout",
     "output_type": "stream",
     "text": [
      "Best accuracy score |0.8394147064271161| achieved at max depth |7|\n"
     ]
    },
    {
     "data": {
      "image/png": "[encoded data removed]",
      "text/plain": [
       "<Figure size 432x288 with 1 Axes>"
      ]
     },
     "metadata": {},
     "output_type": "display_data"
    }
   ],
   "source": [
    "pcad_accuracy_scores = []\n",
    "pcad_max_depths = []\n",
    "\n",
    "for pcad_max_depth in range(1, 15):\n",
    "    pcad_model = DecisionTreeClassifier(max_depth = pcad_max_depth)\n",
    "    pcad_model.fit(X_train, y_train)\n",
    "\n",
    "    pcad_test_prediction = pcad_model.predict(X_test)\n",
    "    pcad_test_accuracy = accuracy_score(y_test, pcad_test_prediction)\n",
    "\n",
    "    pcad_max_depths.append(pcad_max_depth)\n",
    "    pcad_accuracy_scores.append(pcad_test_accuracy)\n",
    "\n",
    "ax = sns.lineplot(x = pcad_max_depths, y = pcad_accuracy_scores)\n",
    "ax.set(xlabel='Decision Tree Max Depth', ylabel='Accuracy Score')\n",
    "print(f'Best accuracy score |{max(pcad_accuracy_scores)}| achieved at max depth |{np.argmax(pcad_accuracy_scores) + 1}|')"
   ]
  }
 ],
 "metadata": {
  "kernelspec": {
   "display_name": "Python 3",
   "language": "python",
   "name": "python3"
  },
  "language_info": {
   "codemirror_mode": {
    "name": "ipython",
    "version": 3
   },
   "file_extension": ".py",
   "mimetype": "text/x-python",
   "name": "python",
   "nbconvert_exporter": "python",
   "pygments_lexer": "ipython3",
   "version": "3.8.8"
  }
 },
 "nbformat": 4,
 "nbformat_minor": 5
}
