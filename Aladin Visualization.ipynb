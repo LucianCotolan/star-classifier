{
 "cells": [
  {
   "cell_type": "code",
   "execution_count": 2,
   "id": "590174f0",
   "metadata": {},
   "outputs": [],
   "source": [
    "import ipyaladin as ipyal"
   ]
  },
  {
   "cell_type": "code",
   "execution_count": 14,
   "id": "15116f1b",
   "metadata": {},
   "outputs": [
    {
     "data": {
      "application/vnd.jupyter.widget-view+json": {
       "model_id": "ab52343f2b6e44e585b732bcee352f0b",
       "version_major": 2,
       "version_minor": 0
      },
      "text/plain": [
       "Aladin(fov=10.0, options=['allow_full_zoomout', 'coo_frame', 'fov', 'full_screen', 'log', 'overlay_survey', 'o…"
      ]
     },
     "metadata": {},
     "output_type": "display_data"
    },
    {
     "name": "stdout",
     "output_type": "stream",
     "text": [
      "-5209.38579798581                                                                                                                                                                                                                                                                                                                                                \r"
     ]
    }
   ],
   "source": [
    "aladin= ipyal.Aladin(survey= 'P/DSS2/red',\n",
    "                              fov= 10,\n",
    "                              target= 'LMC',\n",
    "                              reticle_color= '#ff89ff')\n",
    "\n",
    "aladin"
   ]
  },
  {
   "cell_type": "code",
   "execution_count": 16,
   "id": "a89e9724",
   "metadata": {},
   "outputs": [
    {
     "ename": "NameError",
     "evalue": "name 'galaxies' is not defined",
     "output_type": "error",
     "traceback": [
      "\u001b[1;31m---------------------------------------------------------------------------\u001b[0m",
      "\u001b[1;31mNameError\u001b[0m                                 Traceback (most recent call last)",
      "\u001b[1;32m<ipython-input-16-16e6e1a25489>\u001b[0m in \u001b[0;36m<module>\u001b[1;34m\u001b[0m\n\u001b[1;32m----> 1\u001b[1;33m \u001b[0maladin\u001b[0m\u001b[1;33m.\u001b[0m\u001b[0madd_table\u001b[0m\u001b[1;33m(\u001b[0m\u001b[0mgalaxies\u001b[0m\u001b[1;33m)\u001b[0m\u001b[1;33m\u001b[0m\u001b[1;33m\u001b[0m\u001b[0m\n\u001b[0m",
      "\u001b[1;31mNameError\u001b[0m: name 'galaxies' is not defined"
     ]
    }
   ],
   "source": [
    "aladin.add_table(galaxies)"
   ]
  },
  {
   "cell_type": "code",
   "execution_count": null,
   "id": "03c9e3fb",
   "metadata": {},
   "outputs": [],
   "source": []
  }
 ],
 "metadata": {
  "kernelspec": {
   "display_name": "Python 3",
   "language": "python",
   "name": "python3"
  },
  "language_info": {
   "codemirror_mode": {
    "name": "ipython",
    "version": 3
   },
   "file_extension": ".py",
   "mimetype": "text/x-python",
   "name": "python",
   "nbconvert_exporter": "python",
   "pygments_lexer": "ipython3",
   "version": "3.8.8"
  }
 },
 "nbformat": 4,
 "nbformat_minor": 5
}
